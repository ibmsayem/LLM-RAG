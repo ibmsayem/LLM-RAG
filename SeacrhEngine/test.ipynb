{
 "cells": [
  {
   "cell_type": "code",
   "execution_count": 1,
   "metadata": {},
   "outputs": [],
   "source": [
    "from sklearn.feature_extraction.text import TfidfVectorizer"
   ]
  },
  {
   "cell_type": "code",
   "execution_count": 2,
   "metadata": {},
   "outputs": [],
   "source": [
    "# Sample corpus\n",
    "corpus = [\n",
    "    \"Do I need to know Python to sign up for the January course?\",\n",
    "    \"The course covers the basics of Python programming.\",\n",
    "    \"Python is a versatile programming language.\",\n",
    "    # Add more documents to the corpus\n",
    "]"
   ]
  },
  {
   "cell_type": "code",
   "execution_count": 11,
   "metadata": {},
   "outputs": [
    {
     "data": {
      "text/plain": [
       "TfidfVectorizer()"
      ]
     },
     "execution_count": 11,
     "metadata": {},
     "output_type": "execute_result"
    }
   ],
   "source": [
    "# Initialize and fit the TF-IDF vectorizer\n",
    "tf_idf = TfidfVectorizer()\n",
    "X = tf_idf.fit_transform(corpus)\n",
    "tf_idf.fit(corpus)"
   ]
  },
  {
   "cell_type": "code",
   "execution_count": 31,
   "metadata": {},
   "outputs": [
    {
     "name": "stdout",
     "output_type": "stream",
     "text": [
      "(2, 18)\n",
      "[[0.         0.21506078 0.         0.28277908 0.28277908 0.\n",
      "  0.28277908 0.28277908 0.         0.28277908 0.         0.\n",
      "  0.16701388 0.28277908 0.21506078 0.56555816 0.28277908 0.        ]\n",
      " [0.         0.78980693 0.         0.         0.         0.\n",
      "  0.         0.         0.         0.         0.         0.\n",
      "  0.61335554 0.         0.         0.         0.         0.        ]]\n"
     ]
    }
   ],
   "source": [
    "# Query to transform\n",
    "query = [\n",
    "    \"Do I need to know python to sign up for the January course?\",\n",
    "    \"Which python course you like?\"\n",
    "]\n",
    "\n",
    "# Transform the query\n",
    "q = tf_idf.transform(query)\n",
    "\n",
    "# Print the shape and the TF-IDF vector\n",
    "print(q.shape)  # Output: (1, 1333)\n",
    "print(q.toarray())"
   ]
  },
  {
   "cell_type": "code",
   "execution_count": 32,
   "metadata": {},
   "outputs": [
    {
     "data": {
      "text/plain": [
       "{'basics': 0.0,\n",
       " 'course': 0.7898069290660905,\n",
       " 'covers': 0.0,\n",
       " 'do': 0.0,\n",
       " 'for': 0.0,\n",
       " 'is': 0.0,\n",
       " 'january': 0.0,\n",
       " 'know': 0.0,\n",
       " 'language': 0.0,\n",
       " 'need': 0.0,\n",
       " 'of': 0.0,\n",
       " 'programming': 0.0,\n",
       " 'python': 0.6133555370249717,\n",
       " 'sign': 0.0,\n",
       " 'the': 0.0,\n",
       " 'to': 0.0,\n",
       " 'up': 0.0,\n",
       " 'versatile': 0.0}"
      ]
     },
     "execution_count": 32,
     "metadata": {},
     "output_type": "execute_result"
    }
   ],
   "source": [
    "# List of feature names (terms in the vocabulary)\n",
    "names = tf_idf.get_feature_names_out()\n",
    "query_dict = dict(zip(names, q.toarray()[1]))\n",
    "\n",
    "query_dict"
   ]
  },
  {
   "cell_type": "code",
   "execution_count": 19,
   "metadata": {},
   "outputs": [
    {
     "data": {
      "text/plain": [
       "{'basics': 0.38294157392679107,\n",
       " 'course': 0.29123693746394824,\n",
       " 'covers': 0.38294157392679107,\n",
       " 'do': 0.0,\n",
       " 'for': 0.0,\n",
       " 'is': 0.0,\n",
       " 'january': 0.0,\n",
       " 'know': 0.0,\n",
       " 'language': 0.0,\n",
       " 'need': 0.0,\n",
       " 'of': 0.38294157392679107,\n",
       " 'programming': 0.29123693746394824,\n",
       " 'python': 0.22617146242428104,\n",
       " 'sign': 0.0,\n",
       " 'the': 0.5824738749278965,\n",
       " 'to': 0.0,\n",
       " 'up': 0.0,\n",
       " 'versatile': 0.0}"
      ]
     },
     "execution_count": 19,
     "metadata": {},
     "output_type": "execute_result"
    }
   ],
   "source": [
    "doc_dict = dict(zip(names, X.toarray()[1]))\n",
    "doc_dict"
   ]
  }
 ],
 "metadata": {
  "kernelspec": {
   "display_name": "research-ids",
   "language": "python",
   "name": "research-ids"
  },
  "language_info": {
   "codemirror_mode": {
    "name": "ipython",
    "version": 3
   },
   "file_extension": ".py",
   "mimetype": "text/x-python",
   "name": "python",
   "nbconvert_exporter": "python",
   "pygments_lexer": "ipython3",
   "version": "3.7.12"
  }
 },
 "nbformat": 4,
 "nbformat_minor": 2
}
